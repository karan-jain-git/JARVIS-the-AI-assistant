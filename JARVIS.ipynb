{
  "nbformat": 4,
  "nbformat_minor": 0,
  "metadata": {
    "colab": {
      "name": "JARVIS.ipynb",
      "provenance": [],
      "collapsed_sections": [],
      "mount_file_id": "1B5jX23QPMgl_7EnJ_RAyz_7Bx3U2Y_I0",
      "authorship_tag": "ABX9TyOtiv6vP2KHBkHr92r/Fa45",
      "include_colab_link": true
    },
    "kernelspec": {
      "name": "python3",
      "display_name": "Python 3"
    },
    "language_info": {
      "name": "python"
    }
  },
  "cells": [
    {
      "cell_type": "markdown",
      "metadata": {
        "id": "view-in-github",
        "colab_type": "text"
      },
      "source": [
        "<a href=\"https://colab.research.google.com/github/karan-jain-git/JARVIS-the-AI-assistant/blob/master/JARVIS.ipynb\" target=\"_parent\"><img src=\"https://colab.research.google.com/assets/colab-badge.svg\" alt=\"Open In Colab\"/></a>"
      ]
    },
    {
      "cell_type": "markdown",
      "metadata": {
        "id": "Q0E2nIM9DIVD"
      },
      "source": [
        "# **This is the code for a speech/voice recognition AI assistant** "
      ]
    },
    {
      "cell_type": "markdown",
      "metadata": {
        "id": "7YnMgGx4E1KI"
      },
      "source": [
        "#### Mounting to google drive\n",
        "###### Only for google colab users."
      ]
    },
    {
      "cell_type": "code",
      "metadata": {
        "colab": {
          "base_uri": "https://localhost:8080/"
        },
        "id": "NfktLErcFMfn",
        "outputId": "5ae06ac5-1caa-4f98-fd4d-a8a8a1bbc13c"
      },
      "source": [
        "from google.colab import drive\n",
        "drive.mount('/content/drive')"
      ],
      "execution_count": null,
      "outputs": [
        {
          "output_type": "stream",
          "text": [
            "Drive already mounted at /content/drive; to attempt to forcibly remount, call drive.mount(\"/content/drive\", force_remount=True).\n"
          ],
          "name": "stdout"
        }
      ]
    },
    {
      "cell_type": "markdown",
      "metadata": {
        "id": "UNWhhaJMDxKQ"
      },
      "source": [
        "#### Installing and importing the required libraries... "
      ]
    },
    {
      "cell_type": "code",
      "metadata": {
        "colab": {
          "base_uri": "https://localhost:8080/"
        },
        "id": "-lAVIrekFhVi",
        "outputId": "b7f5346c-62d0-48c3-baed-4f847ba07176"
      },
      "source": [
        "!pip install pyttsx3\n",
        "!pip install SpeechRecognition\n",
        "!pip install wikipedia\n",
        "!pip install psutil\n",
        "!pip install pyjokes\n",
        "!pip install selenium\n",
        "!pip install pyautogui\n",
        "!pip install pillow\n",
        "!pip install mutagen\n",
        "!sudo apt-get install python.espeak # supporting library for pyttsx3"
      ],
      "execution_count": null,
      "outputs": [
        {
          "output_type": "stream",
          "text": [
            "Collecting pyttsx3\n",
            "  Downloading pyttsx3-2.90-py3-none-any.whl (39 kB)\n",
            "Installing collected packages: pyttsx3\n",
            "Successfully installed pyttsx3-2.90\n",
            "Collecting SpeechRecognition\n",
            "  Downloading SpeechRecognition-3.8.1-py2.py3-none-any.whl (32.8 MB)\n",
            "\u001b[K     |████████████████████████████████| 32.8 MB 32 kB/s \n",
            "\u001b[?25hInstalling collected packages: SpeechRecognition\n",
            "Successfully installed SpeechRecognition-3.8.1\n",
            "Collecting wikipedia\n",
            "  Downloading wikipedia-1.4.0.tar.gz (27 kB)\n",
            "Requirement already satisfied: beautifulsoup4 in /usr/local/lib/python3.7/dist-packages (from wikipedia) (4.6.3)\n",
            "Requirement already satisfied: requests<3.0.0,>=2.0.0 in /usr/local/lib/python3.7/dist-packages (from wikipedia) (2.23.0)\n",
            "Requirement already satisfied: chardet<4,>=3.0.2 in /usr/local/lib/python3.7/dist-packages (from requests<3.0.0,>=2.0.0->wikipedia) (3.0.4)\n",
            "Requirement already satisfied: idna<3,>=2.5 in /usr/local/lib/python3.7/dist-packages (from requests<3.0.0,>=2.0.0->wikipedia) (2.10)\n",
            "Requirement already satisfied: urllib3!=1.25.0,!=1.25.1,<1.26,>=1.21.1 in /usr/local/lib/python3.7/dist-packages (from requests<3.0.0,>=2.0.0->wikipedia) (1.24.3)\n",
            "Requirement already satisfied: certifi>=2017.4.17 in /usr/local/lib/python3.7/dist-packages (from requests<3.0.0,>=2.0.0->wikipedia) (2021.5.30)\n",
            "Building wheels for collected packages: wikipedia\n",
            "  Building wheel for wikipedia (setup.py) ... \u001b[?25l\u001b[?25hdone\n",
            "  Created wheel for wikipedia: filename=wikipedia-1.4.0-py3-none-any.whl size=11696 sha256=6e7a4817208d57db1d9d62f2bf8a1edbb9aeadacedb7c53e56e0c672e903faf9\n",
            "  Stored in directory: /root/.cache/pip/wheels/15/93/6d/5b2c68b8a64c7a7a04947b4ed6d89fb557dcc6bc27d1d7f3ba\n",
            "Successfully built wikipedia\n",
            "Installing collected packages: wikipedia\n",
            "Successfully installed wikipedia-1.4.0\n",
            "Requirement already satisfied: psutil in /usr/local/lib/python3.7/dist-packages (5.4.8)\n",
            "Collecting pyjokes\n",
            "  Downloading pyjokes-0.6.0-py2.py3-none-any.whl (26 kB)\n",
            "Installing collected packages: pyjokes\n",
            "Successfully installed pyjokes-0.6.0\n",
            "Collecting selenium\n",
            "  Downloading selenium-3.141.0-py2.py3-none-any.whl (904 kB)\n",
            "\u001b[K     |████████████████████████████████| 904 kB 5.1 MB/s \n",
            "\u001b[?25hRequirement already satisfied: urllib3 in /usr/local/lib/python3.7/dist-packages (from selenium) (1.24.3)\n",
            "Installing collected packages: selenium\n",
            "Successfully installed selenium-3.141.0\n",
            "Collecting pyautogui\n",
            "  Downloading PyAutoGUI-0.9.53.tar.gz (59 kB)\n",
            "\u001b[K     |████████████████████████████████| 59 kB 2.9 MB/s \n",
            "\u001b[?25hCollecting pymsgbox\n",
            "  Downloading PyMsgBox-1.0.9.tar.gz (18 kB)\n",
            "  Installing build dependencies ... \u001b[?25l\u001b[?25hdone\n",
            "  Getting requirements to build wheel ... \u001b[?25l\u001b[?25hdone\n",
            "    Preparing wheel metadata ... \u001b[?25l\u001b[?25hdone\n",
            "Collecting PyTweening>=1.0.1\n",
            "  Downloading PyTweening-1.0.3.zip (15 kB)\n",
            "Collecting pyscreeze>=0.1.21\n",
            "  Downloading PyScreeze-0.1.27.tar.gz (25 kB)\n",
            "  Installing build dependencies ... \u001b[?25l\u001b[?25hdone\n",
            "  Getting requirements to build wheel ... \u001b[?25l\u001b[?25hdone\n",
            "    Preparing wheel metadata ... \u001b[?25l\u001b[?25hdone\n",
            "Collecting pygetwindow>=0.0.5\n",
            "  Downloading PyGetWindow-0.0.9.tar.gz (9.7 kB)\n",
            "Collecting mouseinfo\n",
            "  Downloading MouseInfo-0.1.3.tar.gz (10 kB)\n",
            "Collecting python3-Xlib\n",
            "  Downloading python3-xlib-0.15.tar.gz (132 kB)\n",
            "\u001b[K     |████████████████████████████████| 132 kB 10.5 MB/s \n",
            "\u001b[?25hCollecting pyrect\n",
            "  Downloading PyRect-0.1.4.tar.gz (15 kB)\n",
            "Requirement already satisfied: Pillow>=5.2.0 in /usr/local/lib/python3.7/dist-packages (from pyscreeze>=0.1.21->pyautogui) (7.1.2)\n",
            "Collecting pyperclip\n",
            "  Downloading pyperclip-1.8.2.tar.gz (20 kB)\n",
            "Building wheels for collected packages: pyautogui, pygetwindow, pyscreeze, PyTweening, mouseinfo, pymsgbox, pyperclip, pyrect, python3-Xlib\n",
            "  Building wheel for pyautogui (setup.py) ... \u001b[?25l\u001b[?25hdone\n",
            "  Created wheel for pyautogui: filename=PyAutoGUI-0.9.53-py3-none-any.whl size=36614 sha256=01a89f9bdc139e0001a63d3662b55e49f1248e9f8890e009464a9b2cd153a998\n",
            "  Stored in directory: /root/.cache/pip/wheels/23/db/81/a14b5eca81ccb97c15e5bbea8d5394b8cbf6b36451d89dd648\n",
            "  Building wheel for pygetwindow (setup.py) ... \u001b[?25l\u001b[?25hdone\n",
            "  Created wheel for pygetwindow: filename=PyGetWindow-0.0.9-py3-none-any.whl size=11078 sha256=371becae928c62f9d358f8bb92929d7567ca20e178f2f597a6a454e5b2ff0fcc\n",
            "  Stored in directory: /root/.cache/pip/wheels/91/7e/35/62d9062a06cfc46fea39e26860253da36f258b3f3fd96c91c3\n",
            "  Building wheel for pyscreeze (PEP 517) ... \u001b[?25l\u001b[?25hdone\n",
            "  Created wheel for pyscreeze: filename=PyScreeze-0.1.27-py3-none-any.whl size=12891 sha256=8c09eb7e80b9ed892c8049689781812575cce24e1e2598af1f1d353c7c3541f5\n",
            "  Stored in directory: /root/.cache/pip/wheels/e7/cf/e4/6a16ce50f4213c83255fb057549e804a03ffa1ace412130e45\n",
            "  Building wheel for PyTweening (setup.py) ... \u001b[?25l\u001b[?25hdone\n",
            "  Created wheel for PyTweening: filename=PyTweening-1.0.3-py3-none-any.whl size=3812 sha256=905bb41d89926a6352a2b6ce048426b12bac8956ce3ed442594b55cc22d233a9\n",
            "  Stored in directory: /root/.cache/pip/wheels/1c/ca/56/5da436934a2b244752a7ebc864407729a098271a531a29493c\n",
            "  Building wheel for mouseinfo (setup.py) ... \u001b[?25l\u001b[?25hdone\n",
            "  Created wheel for mouseinfo: filename=MouseInfo-0.1.3-py3-none-any.whl size=10905 sha256=920a524f475b8df0c4ee566e93ee9b85090420e07581fb2c6c21ce2884f9dbe6\n",
            "  Stored in directory: /root/.cache/pip/wheels/43/9a/7f/373736bf37b94b358be41fb2f317a0f9940a1dcb7a733e1707\n",
            "  Building wheel for pymsgbox (PEP 517) ... \u001b[?25l\u001b[?25hdone\n",
            "  Created wheel for pymsgbox: filename=PyMsgBox-1.0.9-py3-none-any.whl size=7420 sha256=2a81c79f3e27451dd8dca21e02206f7ea9a6c0df1bb3b74c6e863d23eff7f669\n",
            "  Stored in directory: /root/.cache/pip/wheels/39/eb/0e/1587e06da34adf675ad26a113da25df542991f5095303374ef\n",
            "  Building wheel for pyperclip (setup.py) ... \u001b[?25l\u001b[?25hdone\n",
            "  Created wheel for pyperclip: filename=pyperclip-1.8.2-py3-none-any.whl size=11137 sha256=3447ed05b9cc4b515de2eb6b48bc5a8cfca66b7d5fe167a16669374a378d956a\n",
            "  Stored in directory: /root/.cache/pip/wheels/9f/18/84/8f69f8b08169c7bae2dde6bd7daf0c19fca8c8e500ee620a28\n",
            "  Building wheel for pyrect (setup.py) ... \u001b[?25l\u001b[?25hdone\n",
            "  Created wheel for pyrect: filename=PyRect-0.1.4-py2.py3-none-any.whl size=9547 sha256=63eb891447d283c1dc7a5f73e3cca64ec2c5bf7817595a2c9ee275d07c016666\n",
            "  Stored in directory: /root/.cache/pip/wheels/97/5f/8e/6f26a5b00d46679ee2391a3542334274ce8bdaf7c6b0f3504c\n",
            "  Building wheel for python3-Xlib (setup.py) ... \u001b[?25l\u001b[?25hdone\n",
            "  Created wheel for python3-Xlib: filename=python3_xlib-0.15-py3-none-any.whl size=109516 sha256=7b4b50f3228b9cdc6e4750b633b763dc3992999beec2aacc7a85c14e871f9eff\n",
            "  Stored in directory: /root/.cache/pip/wheels/67/6f/f2/18f51230840318e784c45e1392a0e174777e499251e42ddf86\n",
            "Successfully built pyautogui pygetwindow pyscreeze PyTweening mouseinfo pymsgbox pyperclip pyrect python3-Xlib\n",
            "Installing collected packages: python3-Xlib, pyrect, pyperclip, PyTweening, pyscreeze, pymsgbox, pygetwindow, mouseinfo, pyautogui\n",
            "Successfully installed PyTweening-1.0.3 mouseinfo-0.1.3 pyautogui-0.9.53 pygetwindow-0.0.9 pymsgbox-1.0.9 pyperclip-1.8.2 pyrect-0.1.4 pyscreeze-0.1.27 python3-Xlib-0.15\n",
            "Requirement already satisfied: pillow in /usr/local/lib/python3.7/dist-packages (7.1.2)\n",
            "Collecting mutagen\n",
            "  Downloading mutagen-1.45.1-py3-none-any.whl (218 kB)\n",
            "\u001b[K     |████████████████████████████████| 218 kB 5.2 MB/s \n",
            "\u001b[?25hInstalling collected packages: mutagen\n",
            "Successfully installed mutagen-1.45.1\n",
            "Reading package lists... Done\n",
            "Building dependency tree       \n",
            "Reading state information... Done\n",
            "Note, selecting 'python-espeak' for regex 'python.espeak'\n",
            "The following additional packages will be installed:\n",
            "  espeak-data libespeak1 libportaudio2 libsonic0\n",
            "The following NEW packages will be installed:\n",
            "  espeak-data libespeak1 libportaudio2 libsonic0 python-espeak\n",
            "0 upgraded, 5 newly installed, 0 to remove and 40 not upgraded.\n",
            "Need to get 1,166 kB of archives.\n",
            "After this operation, 2,859 kB of additional disk space will be used.\n",
            "Get:1 http://archive.ubuntu.com/ubuntu bionic/universe amd64 espeak-data amd64 1.48.04+dfsg-5 [934 kB]\n",
            "Get:2 http://archive.ubuntu.com/ubuntu bionic/universe amd64 libportaudio2 amd64 19.6.0-1 [64.6 kB]\n",
            "Get:3 http://archive.ubuntu.com/ubuntu bionic/main amd64 libsonic0 amd64 0.2.0-6 [13.4 kB]\n",
            "Get:4 http://archive.ubuntu.com/ubuntu bionic/universe amd64 libespeak1 amd64 1.48.04+dfsg-5 [145 kB]\n",
            "Get:5 http://archive.ubuntu.com/ubuntu bionic/universe amd64 python-espeak amd64 0.5-1build5 [8,932 B]\n",
            "Fetched 1,166 kB in 1s (1,351 kB/s)\n",
            "debconf: unable to initialize frontend: Dialog\n",
            "debconf: (No usable dialog-like program is installed, so the dialog based frontend cannot be used. at /usr/share/perl5/Debconf/FrontEnd/Dialog.pm line 76, <> line 5.)\n",
            "debconf: falling back to frontend: Readline\n",
            "debconf: unable to initialize frontend: Readline\n",
            "debconf: (This frontend requires a controlling tty.)\n",
            "debconf: falling back to frontend: Teletype\n",
            "dpkg-preconfigure: unable to re-open stdin: \n",
            "Selecting previously unselected package espeak-data:amd64.\n",
            "(Reading database ... 160837 files and directories currently installed.)\n",
            "Preparing to unpack .../espeak-data_1.48.04+dfsg-5_amd64.deb ...\n",
            "Unpacking espeak-data:amd64 (1.48.04+dfsg-5) ...\n",
            "Selecting previously unselected package libportaudio2:amd64.\n",
            "Preparing to unpack .../libportaudio2_19.6.0-1_amd64.deb ...\n",
            "Unpacking libportaudio2:amd64 (19.6.0-1) ...\n",
            "Selecting previously unselected package libsonic0:amd64.\n",
            "Preparing to unpack .../libsonic0_0.2.0-6_amd64.deb ...\n",
            "Unpacking libsonic0:amd64 (0.2.0-6) ...\n",
            "Selecting previously unselected package libespeak1:amd64.\n",
            "Preparing to unpack .../libespeak1_1.48.04+dfsg-5_amd64.deb ...\n",
            "Unpacking libespeak1:amd64 (1.48.04+dfsg-5) ...\n",
            "Selecting previously unselected package python-espeak.\n",
            "Preparing to unpack .../python-espeak_0.5-1build5_amd64.deb ...\n",
            "Unpacking python-espeak (0.5-1build5) ...\n",
            "Setting up libportaudio2:amd64 (19.6.0-1) ...\n",
            "Setting up espeak-data:amd64 (1.48.04+dfsg-5) ...\n",
            "Setting up libsonic0:amd64 (0.2.0-6) ...\n",
            "Setting up libespeak1:amd64 (1.48.04+dfsg-5) ...\n",
            "Setting up python-espeak (0.5-1build5) ...\n",
            "Processing triggers for libc-bin (2.27-3ubuntu1.2) ...\n",
            "/sbin/ldconfig.real: /usr/local/lib/python3.7/dist-packages/ideep4py/lib/libmkldnn.so.0 is not a symbolic link\n",
            "\n"
          ],
          "name": "stdout"
        }
      ]
    },
    {
      "cell_type": "code",
      "metadata": {
        "id": "LITgnGa2FWvp"
      },
      "source": [
        "import pyttsx3 # pyttsx3 is a text-to-speech conversion library in Python.\n",
        "import datetime # The datetime module supplies classes for manipulating dates and times.\n",
        "import pyautogui # Helps to control the mouse and keyboard to automate interactions with other applications.#\n",
        "import speech_recognition as sr # Library for performing speech recognition with the Google Speech Recognition API.\n",
        "import wikipedia # Library to extract data from Wikipedia, which wraps the official Wikipedia API.\n",
        "import smtplib # This module defines an SMTP client session object that can be used to send mail to any Internet machine with an SMTP or ESMTP listener daemon.\n",
        "import webbrowser as wb # The webbrowser module provides a high-level interface to allow displaying Web-based documents to users.\n",
        "import os # This module provides a portable way of using operating system dependent functionality.\n",
        "import psutil # This is a cross-platform library for retrieving information on running processes and system utilization (CPU, memory, disks, network, sensors).\n",
        "import pyjokes # This library provides ne line jokes for programmers.\n",
        "import requests # a simple, yet elegant, HTTP library which allows you to send HTTP/1.1 requests extremely easily.\n",
        "import time # This module provides various time-related functions like sleep()\n",
        "import mutagen # It is a Python module to handle audio metadata.\n",
        "from mutagen.mp3 import MP3 "
      ],
      "execution_count": null,
      "outputs": []
    },
    {
      "cell_type": "markdown",
      "metadata": {
        "id": "78T-6XQ_3Jg8"
      },
      "source": [
        "Note: ```import pyautogui``` and it's application of take screenshot won't work on web based python (colab), which makes sense because a web based version of python isn’t going to drive your computer."
      ]
    },
    {
      "cell_type": "markdown",
      "metadata": {
        "id": "GLwP-8gVLEoH"
      },
      "source": [
        "#### Now we define an engine...\n",
        "###### This will basically create and design the properties and characteristics of our JARVIS AI assitant."
      ]
    },
    {
      "cell_type": "code",
      "metadata": {
        "id": "0Srx3ycgLDnX"
      },
      "source": [
        "engine = pyttsx3.init() # Provides application access to test-to-speach synthesis.\n",
        "voices = engine.getProperty(\"voices\") #Gets the current value of engine property.\n",
        "engine.setProperty(\"voice\", voices[2].id) # voices -> List of pyttsx3.voice.Voice descriptor objects.\n",
        "NewSpeechRate = 190 # Integer speech rate in words per minute. Defaults to 200 word per minute.\n",
        "engine.setProperty(\"rate\", NewSpeechRate) # Sets the current value of engine property."
      ],
      "execution_count": null,
      "outputs": []
    },
    {
      "cell_type": "markdown",
      "metadata": {
        "id": "HKQXRQFNQizo"
      },
      "source": [
        "#### speak function"
      ]
    },
    {
      "cell_type": "code",
      "metadata": {
        "id": "MsFVoekiQiI4"
      },
      "source": [
        "def speak(audio):\n",
        "    engine.say(audio) # Speak the audio parameter.\n",
        "    engine.runAndWait() # All the say() texts won’t be said unless the interpreter encounters runAndWait()."
      ],
      "execution_count": null,
      "outputs": []
    },
    {
      "cell_type": "markdown",
      "metadata": {
        "id": "GcWGdWaMQoDp"
      },
      "source": [
        "#### time function"
      ]
    },
    {
      "cell_type": "code",
      "metadata": {
        "id": "1IVZJ-O0laQv"
      },
      "source": [
        "def Time():\n",
        "    Time = datetime.datetime.now().strftime(\"%I:%M:%S\") # get current time in hour:minutes:seconds format\n",
        "    speak(\"The current time is\")\n",
        "    speak(Time)"
      ],
      "execution_count": null,
      "outputs": []
    },
    {
      "cell_type": "markdown",
      "metadata": {
        "id": "jX7KxmLqQxMp"
      },
      "source": [
        "#### date function"
      ]
    },
    {
      "cell_type": "code",
      "metadata": {
        "id": "avwRaYlDlhwm"
      },
      "source": [
        "def date():\n",
        "    year = str(datetime.datetime.now().year) # get current year and convert to string to pass the speak function\n",
        "    month = str(datetime.datetime.now().month) # get current and convert to string to pass the speak function\n",
        "    day = str(datetime.datetime.now().day) # get current day and convert to string to pass the speak function\n",
        "    speak(\"The current date is\")  # say date month year\n",
        "    speak(day)\n",
        "    speak(month)\n",
        "    speak(year)"
      ],
      "execution_count": null,
      "outputs": []
    },
    {
      "cell_type": "markdown",
      "metadata": {
        "id": "QIQ3T0mGQ0wI"
      },
      "source": [
        "#### wish function (starting introduction by JARVIS)"
      ]
    },
    {
      "cell_type": "code",
      "metadata": {
        "id": "ZotHuxNrllin"
      },
      "source": [
        "def wishme():\n",
        "    speak(\"Welcome back sir!\")\n",
        "    Time()\n",
        "    date()\n",
        "    hour = datetime.datetime.now().hour # Check the current hour.\n",
        "    cpu()\n",
        "    if (hour >= 6 and hour < 12):\n",
        "        speak(\"Good morning sir!\")\n",
        "    elif (hour == 12):\n",
        "        speak(\"Happy noon sir!\")\n",
        "    elif (hour > 12 and hour < 18):\n",
        "        speak(\"Good afternoon sir!\")\n",
        "    elif (hour >= 18 and hour <  24):\n",
        "        speak(\"Good evening sir!\")\n",
        "    else:\n",
        "        speak(\"Good night sir!\")\n",
        "    speak(\"Jarvis at your service. Please tell me how can I help you.\")"
      ],
      "execution_count": null,
      "outputs": []
    },
    {
      "cell_type": "markdown",
      "metadata": {
        "id": "QZ1mgCs8RHL4"
      },
      "source": [
        "#### function for listening voice"
      ]
    },
    {
      "cell_type": "code",
      "metadata": {
        "id": "t1pt8BkKlqCh"
      },
      "source": [
        "def takeCommand():\n",
        "    r = sr.Recognizer() # call the inbuilt Recognizer function\n",
        "    with sr.Microphone() as source: \n",
        "        print(\"Listening...\")\n",
        "        r.pause_threshold = 1 # wait for 1 second between the printed Listening... and then actually start listening\n",
        "        audio = r.listen(source)  # Start listening to the speech.\n",
        "     \n",
        "    try:\n",
        "        print(\"Recognizing...\")\n",
        "        query = r.recognize_google(audio, language = 'en-in') # Try if the speech is recognized in english india language. If yes then store it in query variable in string format.\n",
        "        print (query) # Print what query is recognized.\n",
        "    except Exception as e:\n",
        "        print(e)\n",
        "        speak(\"Pardon!, unable to recognise. Please say that again!\") # If not recognized then speak.\n",
        "        return \"None\"\n",
        "    \n",
        "    return query"
      ],
      "execution_count": null,
      "outputs": []
    },
    {
      "cell_type": "markdown",
      "metadata": {
        "id": "alM-G5GeRWdf"
      },
      "source": [
        "#### email function"
      ]
    },
    {
      "cell_type": "code",
      "metadata": {
        "id": "5e0sB7O6lvTG"
      },
      "source": [
        "def sendEmail(to, content):\n",
        "    server = smtplib.SMTP(\"smtp.gmail.com\", 587) # Creates a Simple Mail Transfer Protocol client session object\n",
        "    server.ehlo()\n",
        "    server.starttls() # Start TLS for security.\n",
        "    server.login(\"abc@gmail.com\", '123') # Authentication of Email-id and password.\n",
        "    server.sendmail(\"abc@gmail.com\", to, content) # Send the Email.\n",
        "    server.close() # Terminate the session."
      ],
      "execution_count": null,
      "outputs": []
    },
    {
      "cell_type": "markdown",
      "metadata": {
        "id": "4jBcI2B-Rbsu"
      },
      "source": [
        "#### screenshot function"
      ]
    },
    {
      "cell_type": "code",
      "metadata": {
        "id": "OCHN6wq4lzCO"
      },
      "source": [
        "def screenshot():\n",
        "    img = pyautogui.screenshot() # PyAutoGUI takes screenshot and will return an Image object.\n",
        "    img.save(\"/content/drive/MyDrive/Colab Notebooks/JARVIS/ss.png\") # Save the screenshot."
      ],
      "execution_count": null,
      "outputs": []
    },
    {
      "cell_type": "markdown",
      "metadata": {
        "id": "tCWVzAqSRkKI"
      },
      "source": [
        "#### system and battery usage function"
      ]
    },
    {
      "cell_type": "code",
      "metadata": {
        "id": "eWx0K4C5mfVq"
      },
      "source": [
        "def cpu():\n",
        "    usage = str(psutil.cpu_percent()) # Returns a float representing the current system-wide CPU utilization as a percentage and  then explicitly converted to string.\n",
        "    speak (\"The CPU is at \" + usage + \" percent\")\n",
        "    battery = psutil.sensors_battery() # Return battery status information as a named tuple. If no battery is installed or metrics can’t be determined, None is returned.\n",
        "    speak (\"The battery is at \" + str(battery.percent) + \"percent\")"
      ],
      "execution_count": null,
      "outputs": []
    },
    {
      "cell_type": "markdown",
      "metadata": {
        "id": "B847Mwq9RwKs"
      },
      "source": [
        "#### jokes function"
      ]
    },
    {
      "cell_type": "code",
      "metadata": {
        "id": "fWmK5-cTmi9_"
      },
      "source": [
        "def jokes():\n",
        "    joke = pyjokes.get_joke() # Returns a single joke from a certain category and in a particular language.\n",
        "    print(joke)\n",
        "    speak(\"Okay here's a joke... \" + joke + \" hahahaha\")"
      ],
      "execution_count": null,
      "outputs": []
    },
    {
      "cell_type": "markdown",
      "metadata": {
        "id": "2Vekx7oWR08Q"
      },
      "source": [
        "#### song playing function"
      ]
    },
    {
      "cell_type": "code",
      "metadata": {
        "id": "4bM8-cfnmmv4"
      },
      "source": [
        "def song():\n",
        "    songs_dir = \"/content/drive/MyDrive/Colab Notebooks/JARVIS/Music\" # Locate the directory where songs are stored.\n",
        "    songs = os.listdir(songs_dir) #  Get the list of all the songs in the specified directory.\n",
        "    speak (\"Which song you want to listen\")\n",
        "    song_name = takeCommand().lower()\n",
        "    length_in_secs = 0\n",
        "    for s in songs:\n",
        "        if (song_name in str(s).lower()):          # Check for the song in the songs list\n",
        "            song_path = os.path.join(songs_dir, s) # Get the song path by joining the songs directory path and the song name.\n",
        "            os.startfile(song_path) # Start the song\n",
        "            audio = MP3(song_path)  # Store the song in Audio variable of MP3 type.\n",
        "            length_in_secs = int(audio.info.length) # Extract the length of the song.\n",
        "    return length_in_secs"
      ],
      "execution_count": null,
      "outputs": []
    },
    {
      "cell_type": "markdown",
      "metadata": {
        "id": "GtLp0PdmUtQ3"
      },
      "source": [
        "#### note remembering function"
      ]
    },
    {
      "cell_type": "code",
      "metadata": {
        "id": "HyLI0zcAmzJg"
      },
      "source": [
        "def write_note():\n",
        "    speak(\"What you want jarvis to remember?...\")\n",
        "    data = takeCommand() # Store the given note string in data variable.\n",
        "    speak(\"You told me remember \" + data) \n",
        "    remember = open(\"/content/drive/MyDrive/Colab Notebooks/JARVIS/data.txt\", \"w\")  # Create a new file.\n",
        "    remember.write(data) # Write the note in the newly creted file.\n",
        "    remember.close()"
      ],
      "execution_count": null,
      "outputs": []
    },
    {
      "cell_type": "markdown",
      "metadata": {
        "id": "QuLalE-8U0Ng"
      },
      "source": [
        "#### note reading function"
      ]
    },
    {
      "cell_type": "code",
      "metadata": {
        "id": "inO4oTjZrc_y"
      },
      "source": [
        "def read_note():\n",
        "    remember = open(\"/content/drive/MyDrive/Colab Notebooks/JARVIS/data.txt\", \"r\") # Open the note file in read mode. \n",
        "    speak (\"You said me to remember that\" + remember.read())"
      ],
      "execution_count": null,
      "outputs": []
    },
    {
      "cell_type": "markdown",
      "metadata": {
        "id": "-aNcEul7U4KW"
      },
      "source": [
        "#### chrome search function"
      ]
    },
    {
      "cell_type": "code",
      "metadata": {
        "id": "bhtOONRnripS"
      },
      "source": [
        "def search_in_chrome():\n",
        "    speak(\"What do you want to search?\")\n",
        "    chromepath = \"/content/drive/MyDrive/Colab Notebooks/JARVIS/Chrome/chrome.exe %s\" # Locate the chrome applicatio.\n",
        "    search = takeCommand().lower()\n",
        "    wb.get(chromepath).open_new_tab(search + \".com\") # Search the vpice input and open the result in a new tab."
      ],
      "execution_count": null,
      "outputs": []
    },
    {
      "cell_type": "markdown",
      "metadata": {
        "id": "ZDMlAlXdlVhv"
      },
      "source": [
        "### main function"
      ]
    },
    {
      "cell_type": "code",
      "metadata": {
        "id": "jDVq1Y_2szJC"
      },
      "source": [
        "if __name__ == \"__main__\":\n",
        "    wishme()\n",
        "    while True:                            # Take and run voice commands until user manually order the AI assistant to STOP. \n",
        "        query = takeCommand().lower()      # Listen the user voice speech and store it in string format in lower case. \n",
        "\n",
        "        if (\"time\" in query):\n",
        "            Time()\n",
        "\n",
        "        elif (\"date\" in query):\n",
        "            date()\n",
        "\n",
        "        elif (\"wikipedia\" in query):\n",
        "            speak (\"Searching...\")\n",
        "            query = query.replace(\"wikipedia\", \"\") \n",
        "            result = wikipedia.summary(query, sentences = 5) # Finding result for the search and sentences = 5 refers to numbers of lines.\n",
        "            print(result)\n",
        "            speak(result)\n",
        "\n",
        "        elif (\"send email\" in query):\n",
        "            try:\n",
        "                speak(\"What message you want to send?\")\n",
        "                content = takeCommand()\n",
        "                to = \"xyz@gmail.com\"\n",
        "                sendEmail(to, content) # Call the sendEmail function.\n",
        "                speak(\"The email has been sent!\")\n",
        "            except Exception as e:\n",
        "                print(e)\n",
        "                speak(\"Unable to send mail\")\n",
        "        \n",
        "        elif (\"search in chrome\" in query):\n",
        "            search_in_chrome()\n",
        "        \n",
        "        elif (\"logout\" in query):\n",
        "            os.system(\"shutdown - l\")     \n",
        "        \n",
        "        elif (\"shutdown\" in query):\n",
        "            os.system(\"shutdown /s /t 1\")\n",
        "        \n",
        "        elif (\"restart\" in query):\n",
        "            os.system(\"shutdown - /r /t 1\")\n",
        "\n",
        "       elif ((\"play songs\" in query) or (\"play a song\" in query)):\n",
        "            length_of_song = song() \n",
        "            if (length_of_song != 0):       \n",
        "                time.sleep(length_of_song) # JARVIS should wait for the next command until the song is finished.\n",
        "            else:\n",
        "                speak (\"Sorry, the requested song was not found!\") # The case when the requested song doesn't exists in the songs directory. \n",
        "\n",
        "        elif (\"remember\" in query):\n",
        "            write_note()\n",
        "        \n",
        "        elif (\"what did i told you to remember\" in query):\n",
        "            read_note()\n",
        "\n",
        "        elif (\"take a screenshot\" in query):\n",
        "            screenshot()\n",
        "            speak(\"Screenshot taken!\")\n",
        "\n",
        "        elif ((\"battery\" in query) or (\"cpu\" in query)):\n",
        "            cpu()\n",
        "\n",
        "        elif ((\"joke\" in query) or (\"jokes\" in query)):\n",
        "            jokes()\n",
        "\n",
        "        elif ((\"goodbye jarvis\" in query) or (\"bye\" in query)):\n",
        "            speak (\"Okay, bye bye sir!...\")\n",
        "            quit() # Exit the while loop and the main function.\n"
      ],
      "execution_count": null,
      "outputs": []
    }
  ]
}